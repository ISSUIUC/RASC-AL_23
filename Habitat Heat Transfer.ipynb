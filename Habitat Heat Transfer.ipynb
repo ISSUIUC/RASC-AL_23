{
 "cells": [
  {
   "cell_type": "markdown",
   "id": "645e7a7e",
   "metadata": {},
   "source": [
    "### Steps\n",
    "1) input parameters\n",
    "\n",
    "2) Determine if internal LCI is necessary\n",
    "\n",
    "    a) Calculate total thermal resistance without it\n",
    "    \n",
    "    b) Get steady rate of heat transfer assuming average martian temp\n",
    "    \n",
    "    c) Find temperature the concrete is heated to by the interior \n",
    "    \n",
    "3) Determine thickness of internal LCI\n",
    "\n",
    "4) Detrmine if it being 2 degrees C outside matters"
   ]
  },
  {
   "cell_type": "markdown",
   "id": "a5a14ca7",
   "metadata": {},
   "source": [
    "### Parameters"
   ]
  },
  {
   "cell_type": "code",
   "execution_count": 139,
   "id": "b620883f",
   "metadata": {},
   "outputs": [],
   "source": [
    "#Thermal Conductivities\n",
    "h_lci = 2/1000 #W/m-K \n",
    "h_foam = 0.025 #W/m-K\n",
    "h_pvc = 0.129 #W/m-K\n",
    "h_concrete = 0.363 #W/m-K\n",
    "h_film = 0.35 #W/m-K\n",
    "h_kevlar = 0.04 #W/m-K\n",
    "\n",
    "#Convection Coefficients\n",
    "h_conv_i = 10 #W/m-K\n",
    "h_conv_o_2 = 28 #W/m-K\n",
    "h_conv_o_60 = 90 #W/m-K\n",
    "\n",
    "#Geometry\n",
    "L_lci_o = 1.5/100 #m\n",
    "L_foam = 0.12/100 #m\n",
    "L_pvc = 0.48/100 #m\n",
    "L_concrete = 1 #m\n",
    "L_film = 0.0076/100 #m\n",
    "L_kevlar = 0.39/100 #m\n",
    "A_i = 189.56 #m^2\n",
    "A_o = 306.54 #m^2"
   ]
  },
  {
   "cell_type": "markdown",
   "id": "a89a4cdb",
   "metadata": {},
   "source": [
    "### Calulate thermal resistance - no interior LCI"
   ]
  },
  {
   "cell_type": "code",
   "execution_count": 140,
   "id": "4267df6a",
   "metadata": {},
   "outputs": [],
   "source": [
    "#Materials\n",
    "R_kevlar = L_kevlar/(h_kevlar*A_i)\n",
    "R_film = L_film/(h_film*A_i)\n",
    "R_pvc_i = L_pvc/(h_pvc*A_i)\n",
    "R_concrete = L_concrete/(h_concrete*A_i)\n",
    "R_foam = L_foam/(h_foam*A_o)\n",
    "R_pvc_o = L_pvc/(h_pvc*A_o)\n",
    "R_lci_o = L_lci_o/(h_lci*A_o)\n",
    "\n",
    "#Convection\n",
    "R_conv_i = 1/(h_conv_i*A_i)\n",
    "R_conv_o_60 = 1/(h_conv_o_60*A_o)\n",
    "R_conv_o_2 = 1/(h_conv_o_2*A_o)\n",
    "\n",
    "#Total\n",
    "R_total = R_conv_o_60 + R_lci_o + R_foam + R_pvc_o + R_concrete + R_pvc_i + R_film + R_kevlar + R_conv_i"
   ]
  },
  {
   "cell_type": "markdown",
   "id": "686ae232",
   "metadata": {},
   "source": [
    "### Calculate Steady State Heat Transfer - No interior LCI"
   ]
  },
  {
   "cell_type": "code",
   "execution_count": 141,
   "id": "68fff7c3",
   "metadata": {},
   "outputs": [
    {
     "name": "stdout",
     "output_type": "stream",
     "text": [
      "18.595833420500696\n",
      "-10.07332395998963\n"
     ]
    }
   ],
   "source": [
    "#Initial Temperatures\n",
    "T_i = 20 #C\n",
    "T_o = -60 #C\n",
    "\n",
    "#Steady Rate\n",
    "Q_dot = (T_i - T_o)/R_total\n",
    "\n",
    "#Temperatures\n",
    "T_conc_surf_i = T_i -  Q_dot*(R_kevlar + R_film + R_pvc_i)\n",
    "T_conc_surf_o = T_i - Q_dot*(R_kevlar + R_film + R_pvc_i + R_concrete)\n",
    "T_conc_avg = (T_conc_surf_i + T_conc_surf_o)/2\n",
    "print(T_conc_surf_i)\n",
    "print(T_conc_surf_o)"
   ]
  },
  {
   "cell_type": "markdown",
   "id": "22a73307",
   "metadata": {},
   "source": [
    "### Minimum Interior LCI layer"
   ]
  },
  {
   "cell_type": "code",
   "execution_count": 142,
   "id": "7d74044c",
   "metadata": {},
   "outputs": [
    {
     "name": "stdout",
     "output_type": "stream",
     "text": [
      "Minimum LCI layer depth is:  0.5  cm\n"
     ]
    }
   ],
   "source": [
    "for i in range(0, 1000):\n",
    "    #calculate internal LCI thermal resistance\n",
    "    L_lci_i = i/1000\n",
    "    R_lci_i = L_lci_i/(h_lci*A_i)\n",
    "    #find total thermal resistance\n",
    "    R_total = R_conv_o_60 + R_lci_o + R_foam + R_pvc_o + R_concrete + R_pvc_i + R_film + R_kevlar + R_lci_i + R_conv_i\n",
    "    \n",
    "    #Steady Rate\n",
    "    Q_dot = (T_i - T_o)/R_total\n",
    "\n",
    "    #Temperatures\n",
    "    T_conc_surf_i = T_i -  Q_dot*(R_kevlar + R_film + R_pvc_i + R_lci_i)\n",
    "    T_conc_surf_o = T_i - Q_dot*(R_kevlar + R_film + R_pvc_i + R_lci_i + R_concrete)\n",
    "    if T_conc_surf_i < 0 and T_conc_surf_o < 0:\n",
    "        print(\"Minimum LCI layer depth is: \", i/10, \" cm\")\n",
    "        break"
   ]
  },
  {
   "cell_type": "markdown",
   "id": "32792e70",
   "metadata": {},
   "source": [
    "### Verify returned LCI depth works"
   ]
  },
  {
   "cell_type": "code",
   "execution_count": 145,
   "id": "d718b3e7",
   "metadata": {},
   "outputs": [
    {
     "name": "stdout",
     "output_type": "stream",
     "text": [
      "120.20081658382504\n",
      "-58.052464240426644\n",
      "-56.30562035919516\n"
     ]
    }
   ],
   "source": [
    "#calculate internal LCI thermal resistance\n",
    "L_lci_i = 0.5/100\n",
    "R_lci_i = L_lci_i/(h_lci*A)\n",
    "#find total thermal resistance\n",
    "R_total = R_conv_o_60 + R_lci_o + R_foam + R_pvc_o + R_concrete + R_pvc_i + R_film + R_kevlar + R_lci_i + R_conv_i\n",
    "\n",
    "#Steady Rate\n",
    "Q_dot = (T_i - T_o)/R_total\n",
    "print(Q_dot)\n",
    "\n",
    "#Temperatures\n",
    "T_conc_surf_i = T_i -  Q_dot*(R_kevlar + R_film + R_pvc + R_lci_i)\n",
    "T_conc_surf_o = T_i - Q_dot*(R_kevlar + R_film + R_pvc + R_lci_i + R_concrete)\n",
    "T_conc_avg = (T_conc_surf_i + T_conc_surf_o)/2\n",
    "print(T_conc_surf_o)\n",
    "print(T_conc_surf_i)"
   ]
  },
  {
   "cell_type": "markdown",
   "id": "8973d45e",
   "metadata": {},
   "source": [
    "### Find temp when it is 2 degrees C"
   ]
  },
  {
   "cell_type": "code",
   "execution_count": 146,
   "id": "7a9e22a4",
   "metadata": {},
   "outputs": [
    {
     "name": "stdout",
     "output_type": "stream",
     "text": [
      "-34.664895498479744\n",
      "-56.133507976307484\n"
     ]
    }
   ],
   "source": [
    "#Total thermal resistance outside -> concrete\n",
    "R_total_2 = R_conv_o_2 + R_lci_o + R_foam + R_pvc_i + R_concrete\n",
    "\n",
    "T_i_2 = -56.30562035919516 #set interior temp to temp on interior of concrete\n",
    "\n",
    "#Steady Rate\n",
    "Q_dot_2 = (2 - T_i_2)/R_total_2\n",
    "\n",
    "#Temperatures\n",
    "T_conc_surf_i_2 = 2 -  Q_dot_2*(R_lci_o + R_foam + R_pvc_i)\n",
    "T_conc_surf_o_2 = 2- Q_dot_2*(R_lci_o + R_foam + R_pvc_i + R_concrete)\n",
    "T_conc_avg_2 = (T_conc_surf_i_2 + T_conc_surf_o_2)/2\n",
    "print(T_conc_surf_i_2)\n",
    "print(T_conc_surf_o_2)"
   ]
  },
  {
   "cell_type": "code",
   "execution_count": null,
   "id": "258de66d",
   "metadata": {},
   "outputs": [],
   "source": []
  },
  {
   "cell_type": "code",
   "execution_count": null,
   "id": "80a1f9f1",
   "metadata": {},
   "outputs": [],
   "source": []
  }
 ],
 "metadata": {
  "kernelspec": {
   "display_name": "Python 3",
   "language": "python",
   "name": "python3"
  },
  "language_info": {
   "codemirror_mode": {
    "name": "ipython",
    "version": 3
   },
   "file_extension": ".py",
   "mimetype": "text/x-python",
   "name": "python",
   "nbconvert_exporter": "python",
   "pygments_lexer": "ipython3",
   "version": "3.8.8"
  }
 },
 "nbformat": 4,
 "nbformat_minor": 5
}

{
 "cells": [
  {
   "cell_type": "code",
   "execution_count": 1,
   "id": "4e6d14eb",
   "metadata": {},
   "outputs": [
    {
     "name": "stdout",
     "output_type": "stream",
     "text": [
      "201180.0 kg\n"
     ]
    }
   ],
   "source": [
    "# This script returns mass and panel sizing for a solar panel array. It was originally made for\n",
    "# the 2021 UIUC RASC-AL team by Komol Patel and written in MATLAB. It was translated into Python and\n",
    "# modified to support a varying power duty-cycle and account for different solar radiation around \n",
    "# the solar system for the 2022 UIUC RASC-AL team by Galen Sieck. \n",
    "\n",
    "#The first three blocks of code contain the values to be modified. It is currently defaulted \n",
    "#to the 2022 MITHRIL architecture which refined fuel on Mars.\n",
    "\n",
    "#Chosen duty cycle input\n",
    "totalPowerPeak =  700000 #W, this is the peak power generation required of the design\n",
    "totalPowerBase = 0 #W, this is the base power generation requirement\n",
    "peakPeriod = 24 #h, length of time the architecture runs at peak power level\n",
    "basePeriod = 24-peakPeriod #h, length of time the architecture runs at base power\n",
    "chargePeriod = 4 #h, the period of time the solar panels will generate power\n",
    "\n",
    "#Chosen architecture parametrs\n",
    "DoD = .6 #The depth of discharge for the battery packs\n",
    "specificPower = 200 # W/kg, this is a feature of the exact solar cell you plan to use\n",
    "massDensity = 3.8 # kg/m^2, this is the density of the solar cells on the panel surface\n",
    "massAerialDensity = 5 #kg/m^2, this is the density of the solar cells themselves and how much power they can generate per unit \n",
    "solarFluxRatio = 2.3 #the ratio of solar flux at architecture location to solar flux on Earth\n",
    "useTruss = False\n",
    "\n",
    "# Truss Parameters\n",
    "# this entire section is only if you want a trussed support to hold your\n",
    "# solar panels up, tower style. Refer to RASC-AL 2021 design for example\n",
    "# application of this section of code.\n",
    "totalHeight = 13 # m, this is how high off the ground you want your panels to be\n",
    "numberOfSections = 4 # this is however many sections you want your total panel area split up into\n",
    "density = 2700 # kg/m^3, this is the desity of the material you intend to make your truss out of\n",
    "initialCSwidth = 0.1 # m, CS = cross-section, this is the initial \"guess\" the code uses to iterate through the section below\n",
    "CSwidthIncrement = 0.01 # m, this is the amount by which the cross-sectional width increases in each iteration\n",
    "\n",
    "\n",
    "#Duty cycle intermediate values\n",
    "energyReq = (totalPowerPeak*peakPeriod+totalPowerBase*basePeriod)/DoD #total required energy per discharge period\n",
    "totalPowerNeed = energyReq/chargePeriod #total power required for the duration of the charge period\n",
    "\n",
    "#Panel Mass\n",
    "panelArea = totalPowerNeed / (specificPower/solarFluxRatio * massAerialDensity) # this is the area your solar panel needs to be to generate the required amount of power\n",
    "panelMass = massDensity*panelArea # given the required solar panel area calculated above, this is the mass of your panels\n",
    "\n",
    "#Battery Mass\n",
    "specificEnergy = 200\n",
    "batteryMass = energyReq/specificEnergy\n",
    "\n",
    "#Truss Sizing\n",
    "trussMassFraction = 0.40; # this determines how much material is actually in the truss compared to if it were a solid-walled tube.\n",
    "postMass = 0; # this is just the inital \"guess\" for iterative sake\n",
    "sectionLength = totalHeight / numberOfSections; # this finds the length of each section, assuming all sections are evenly sized\n",
    "width = initialCSwidth; # this is just the iterative initial \"guess\"\n",
    "for i in range(1,numberOfSections):\n",
    "    sectionMass = (width**2 - (width-CSwidthIncrement)**2)*sectionLength*trussMassFraction*density; # this calculates the mass of a single truss section\n",
    "    postMass = postMass + sectionMass; # this increases increases the post mass by another section mass, effectively \"adding\" a section\n",
    "    width = width - CSwidthIncrement; # this makes the width skinnier, which is beneficial to reducing mass - we don't want this to be negative though (refer to if statement below)\n",
    "    if width <= 0: # this is a check to make sure we don't end up with negative dimensions on our supports\n",
    "        error('ERROR: width is no longer positive. Make initial width bigger or increment smaller.')\n",
    "trussMass = sectionMass+postMass\n",
    "\n",
    "#Outputs\n",
    "if useTruss == True:\n",
    "    totalMass = trussMass + panelMass + batteryMass\n",
    "else:\n",
    "    totalMass = panelMass + batteryMass\n",
    "\n",
    "print(totalMass, \"kg\")"
   ]
  },
  {
   "cell_type": "code",
   "execution_count": null,
   "id": "315904c9",
   "metadata": {},
   "outputs": [],
   "source": []
  }
 ],
 "metadata": {
  "kernelspec": {
   "display_name": "Python 3",
   "language": "python",
   "name": "python3"
  },
  "language_info": {
   "codemirror_mode": {
    "name": "ipython",
    "version": 3
   },
   "file_extension": ".py",
   "mimetype": "text/x-python",
   "name": "python",
   "nbconvert_exporter": "python",
   "pygments_lexer": "ipython3",
   "version": "3.8.8"
  }
 },
 "nbformat": 4,
 "nbformat_minor": 5
}
